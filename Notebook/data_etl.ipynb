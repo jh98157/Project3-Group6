{
 "cells": [
  {
   "cell_type": "code",
   "execution_count": 20,
   "metadata": {
    "scrolled": true
   },
   "outputs": [],
   "source": [
    "import pandas as pd\n",
    "from sqlalchemy import create_engine\n"
   ]
  },
  {
   "cell_type": "markdown",
   "metadata": {
    "slideshow": {
     "slide_type": "-"
    }
   },
   "source": [
    "### Store CSV into DataFrame"
   ]
  },
  {
   "cell_type": "code",
   "execution_count": 21,
   "metadata": {
    "scrolled": true
   },
   "outputs": [
    {
     "data": {
      "text/html": [
       "<div>\n",
       "<style scoped>\n",
       "    .dataframe tbody tr th:only-of-type {\n",
       "        vertical-align: middle;\n",
       "    }\n",
       "\n",
       "    .dataframe tbody tr th {\n",
       "        vertical-align: top;\n",
       "    }\n",
       "\n",
       "    .dataframe thead th {\n",
       "        text-align: right;\n",
       "    }\n",
       "</style>\n",
       "<table border=\"1\" class=\"dataframe\">\n",
       "  <thead>\n",
       "    <tr style=\"text-align: right;\">\n",
       "      <th></th>\n",
       "      <th>city</th>\n",
       "      <th>country</th>\n",
       "      <th>description</th>\n",
       "      <th>location</th>\n",
       "      <th>state</th>\n",
       "      <th>state_abbrev</th>\n",
       "      <th>longitude</th>\n",
       "      <th>latitude</th>\n",
       "      <th>city_longitude</th>\n",
       "      <th>city_latitude</th>\n",
       "    </tr>\n",
       "  </thead>\n",
       "  <tbody>\n",
       "    <tr>\n",
       "      <th>0</th>\n",
       "      <td>Ada</td>\n",
       "      <td>United States</td>\n",
       "      <td>Ada witch - Sometimes you can see a misty blue...</td>\n",
       "      <td>Ada Cemetery</td>\n",
       "      <td>Michigan</td>\n",
       "      <td>MI</td>\n",
       "      <td>-85.504893</td>\n",
       "      <td>42.962106</td>\n",
       "      <td>-85.495480</td>\n",
       "      <td>42.960727</td>\n",
       "    </tr>\n",
       "    <tr>\n",
       "      <th>1</th>\n",
       "      <td>Addison</td>\n",
       "      <td>United States</td>\n",
       "      <td>A little girl was killed suddenly while waitin...</td>\n",
       "      <td>North Adams Rd.</td>\n",
       "      <td>Michigan</td>\n",
       "      <td>MI</td>\n",
       "      <td>-84.381843</td>\n",
       "      <td>41.971425</td>\n",
       "      <td>-84.347168</td>\n",
       "      <td>41.986434</td>\n",
       "    </tr>\n",
       "    <tr>\n",
       "      <th>2</th>\n",
       "      <td>Adrian</td>\n",
       "      <td>United States</td>\n",
       "      <td>If you take Gorman Rd. west towards Sand Creek...</td>\n",
       "      <td>Ghost Trestle</td>\n",
       "      <td>Michigan</td>\n",
       "      <td>MI</td>\n",
       "      <td>-84.035656</td>\n",
       "      <td>41.904538</td>\n",
       "      <td>-84.037166</td>\n",
       "      <td>41.897547</td>\n",
       "    </tr>\n",
       "    <tr>\n",
       "      <th>3</th>\n",
       "      <td>Adrian</td>\n",
       "      <td>United States</td>\n",
       "      <td>In the 1970's, one room, room 211, in the old ...</td>\n",
       "      <td>Siena Heights University</td>\n",
       "      <td>Michigan</td>\n",
       "      <td>MI</td>\n",
       "      <td>-84.017565</td>\n",
       "      <td>41.905712</td>\n",
       "      <td>-84.037166</td>\n",
       "      <td>41.897547</td>\n",
       "    </tr>\n",
       "    <tr>\n",
       "      <th>4</th>\n",
       "      <td>Albion</td>\n",
       "      <td>United States</td>\n",
       "      <td>Kappa Delta Sorority - The Kappa Delta Sororit...</td>\n",
       "      <td>Albion College</td>\n",
       "      <td>Michigan</td>\n",
       "      <td>MI</td>\n",
       "      <td>-84.745177</td>\n",
       "      <td>42.244006</td>\n",
       "      <td>-84.753030</td>\n",
       "      <td>42.243097</td>\n",
       "    </tr>\n",
       "  </tbody>\n",
       "</table>\n",
       "</div>"
      ],
      "text/plain": [
       "      city        country                                        description  \\\n",
       "0      Ada  United States  Ada witch - Sometimes you can see a misty blue...   \n",
       "1  Addison  United States  A little girl was killed suddenly while waitin...   \n",
       "2   Adrian  United States  If you take Gorman Rd. west towards Sand Creek...   \n",
       "3   Adrian  United States  In the 1970's, one room, room 211, in the old ...   \n",
       "4   Albion  United States  Kappa Delta Sorority - The Kappa Delta Sororit...   \n",
       "\n",
       "                   location     state state_abbrev  longitude   latitude  \\\n",
       "0              Ada Cemetery  Michigan           MI -85.504893  42.962106   \n",
       "1           North Adams Rd.  Michigan           MI -84.381843  41.971425   \n",
       "2             Ghost Trestle  Michigan           MI -84.035656  41.904538   \n",
       "3  Siena Heights University  Michigan           MI -84.017565  41.905712   \n",
       "4            Albion College  Michigan           MI -84.745177  42.244006   \n",
       "\n",
       "   city_longitude  city_latitude  \n",
       "0      -85.495480      42.960727  \n",
       "1      -84.347168      41.986434  \n",
       "2      -84.037166      41.897547  \n",
       "3      -84.037166      41.897547  \n",
       "4      -84.753030      42.243097  "
      ]
     },
     "execution_count": 21,
     "metadata": {},
     "output_type": "execute_result"
    }
   ],
   "source": [
    "csv_file = \"../Resources/haunted_places.csv\"\n",
    "haunted_df = pd.read_csv(csv_file)\n",
    "haunted_df.head()"
   ]
  },
  {
   "cell_type": "code",
   "execution_count": 22,
   "metadata": {
    "scrolled": true
   },
   "outputs": [
    {
     "name": "stderr",
     "output_type": "stream",
     "text": [
      "/var/folders/3k/6xzjh8pd05z3pk2qlf50c_b80000gn/T/ipykernel_10894/3776472120.py:2: DtypeWarning: Columns (6,7,8,9,10,11,12,13,14,15,16,17,18) have mixed types. Specify dtype option on import or set low_memory=False.\n",
      "  ufo_df = pd.read_csv(csv_file)\n"
     ]
    }
   ],
   "source": [
    "csv_file = \"../Resources/nuforc_reports.csv\"\n",
    "ufo_df = pd.read_csv(csv_file)"
   ]
  },
  {
   "cell_type": "code",
   "execution_count": 23,
   "metadata": {},
   "outputs": [
    {
     "data": {
      "text/html": [
       "<div>\n",
       "<style scoped>\n",
       "    .dataframe tbody tr th:only-of-type {\n",
       "        vertical-align: middle;\n",
       "    }\n",
       "\n",
       "    .dataframe tbody tr th {\n",
       "        vertical-align: top;\n",
       "    }\n",
       "\n",
       "    .dataframe thead th {\n",
       "        text-align: right;\n",
       "    }\n",
       "</style>\n",
       "<table border=\"1\" class=\"dataframe\">\n",
       "  <thead>\n",
       "    <tr style=\"text-align: right;\">\n",
       "      <th></th>\n",
       "      <th>number</th>\n",
       "      <th>title</th>\n",
       "      <th>classification</th>\n",
       "      <th>timestamp</th>\n",
       "      <th>latitude</th>\n",
       "      <th>longitude</th>\n",
       "    </tr>\n",
       "  </thead>\n",
       "  <tbody>\n",
       "    <tr>\n",
       "      <th>0</th>\n",
       "      <td>637</td>\n",
       "      <td>Report 637: Campers' encounter just after dark...</td>\n",
       "      <td>Class A</td>\n",
       "      <td>2000-06-16T12:00:00Z</td>\n",
       "      <td>61.5000</td>\n",
       "      <td>-142.9000</td>\n",
       "    </tr>\n",
       "    <tr>\n",
       "      <th>1</th>\n",
       "      <td>2917</td>\n",
       "      <td>Report 2917: Family observes large biped from car</td>\n",
       "      <td>Class A</td>\n",
       "      <td>1995-05-15T12:00:00Z</td>\n",
       "      <td>55.1872</td>\n",
       "      <td>-132.7982</td>\n",
       "    </tr>\n",
       "    <tr>\n",
       "      <th>2</th>\n",
       "      <td>7963</td>\n",
       "      <td>Report 7963: Sasquatch walks past window of ho...</td>\n",
       "      <td>Class A</td>\n",
       "      <td>2004-02-09T12:00:00Z</td>\n",
       "      <td>55.2035</td>\n",
       "      <td>-132.8202</td>\n",
       "    </tr>\n",
       "    <tr>\n",
       "      <th>3</th>\n",
       "      <td>9317</td>\n",
       "      <td>Report 9317: Driver on Alcan Highway has noon,...</td>\n",
       "      <td>Class A</td>\n",
       "      <td>2004-06-18T12:00:00Z</td>\n",
       "      <td>62.9375</td>\n",
       "      <td>-141.5667</td>\n",
       "    </tr>\n",
       "    <tr>\n",
       "      <th>4</th>\n",
       "      <td>13038</td>\n",
       "      <td>Report 13038: Snowmobiler has encounter in dee...</td>\n",
       "      <td>Class A</td>\n",
       "      <td>2004-02-15T12:00:00Z</td>\n",
       "      <td>61.0595</td>\n",
       "      <td>-149.7853</td>\n",
       "    </tr>\n",
       "  </tbody>\n",
       "</table>\n",
       "</div>"
      ],
      "text/plain": [
       "   number                                              title classification  \\\n",
       "0     637  Report 637: Campers' encounter just after dark...        Class A   \n",
       "1    2917  Report 2917: Family observes large biped from car        Class A   \n",
       "2    7963  Report 7963: Sasquatch walks past window of ho...        Class A   \n",
       "3    9317  Report 9317: Driver on Alcan Highway has noon,...        Class A   \n",
       "4   13038  Report 13038: Snowmobiler has encounter in dee...        Class A   \n",
       "\n",
       "              timestamp  latitude  longitude  \n",
       "0  2000-06-16T12:00:00Z   61.5000  -142.9000  \n",
       "1  1995-05-15T12:00:00Z   55.1872  -132.7982  \n",
       "2  2004-02-09T12:00:00Z   55.2035  -132.8202  \n",
       "3  2004-06-18T12:00:00Z   62.9375  -141.5667  \n",
       "4  2004-02-15T12:00:00Z   61.0595  -149.7853  "
      ]
     },
     "execution_count": 23,
     "metadata": {},
     "output_type": "execute_result"
    }
   ],
   "source": [
    "csv_file = \"../Resources/bfro_locations.csv\"\n",
    "bigfoot_df = pd.read_csv(csv_file)\n",
    "bigfoot_df.head()"
   ]
  },
  {
   "cell_type": "markdown",
   "metadata": {},
   "source": [
    "### Create new data with select columns"
   ]
  },
  {
   "cell_type": "code",
   "execution_count": 24,
   "metadata": {
    "scrolled": true
   },
   "outputs": [
    {
     "data": {
      "text/html": [
       "<div>\n",
       "<style scoped>\n",
       "    .dataframe tbody tr th:only-of-type {\n",
       "        vertical-align: middle;\n",
       "    }\n",
       "\n",
       "    .dataframe tbody tr th {\n",
       "        vertical-align: top;\n",
       "    }\n",
       "\n",
       "    .dataframe thead th {\n",
       "        text-align: right;\n",
       "    }\n",
       "</style>\n",
       "<table border=\"1\" class=\"dataframe\">\n",
       "  <thead>\n",
       "    <tr style=\"text-align: right;\">\n",
       "      <th></th>\n",
       "      <th>city</th>\n",
       "      <th>country</th>\n",
       "      <th>description</th>\n",
       "      <th>location</th>\n",
       "      <th>state</th>\n",
       "      <th>longitude</th>\n",
       "      <th>latitude</th>\n",
       "    </tr>\n",
       "  </thead>\n",
       "  <tbody>\n",
       "    <tr>\n",
       "      <th>0</th>\n",
       "      <td>Ada</td>\n",
       "      <td>United States</td>\n",
       "      <td>Ada witch - Sometimes you can see a misty blue...</td>\n",
       "      <td>Ada Cemetery</td>\n",
       "      <td>Michigan</td>\n",
       "      <td>-85.504893</td>\n",
       "      <td>42.962106</td>\n",
       "    </tr>\n",
       "    <tr>\n",
       "      <th>1</th>\n",
       "      <td>Addison</td>\n",
       "      <td>United States</td>\n",
       "      <td>A little girl was killed suddenly while waitin...</td>\n",
       "      <td>North Adams Rd.</td>\n",
       "      <td>Michigan</td>\n",
       "      <td>-84.381843</td>\n",
       "      <td>41.971425</td>\n",
       "    </tr>\n",
       "    <tr>\n",
       "      <th>2</th>\n",
       "      <td>Adrian</td>\n",
       "      <td>United States</td>\n",
       "      <td>If you take Gorman Rd. west towards Sand Creek...</td>\n",
       "      <td>Ghost Trestle</td>\n",
       "      <td>Michigan</td>\n",
       "      <td>-84.035656</td>\n",
       "      <td>41.904538</td>\n",
       "    </tr>\n",
       "    <tr>\n",
       "      <th>3</th>\n",
       "      <td>Adrian</td>\n",
       "      <td>United States</td>\n",
       "      <td>In the 1970's, one room, room 211, in the old ...</td>\n",
       "      <td>Siena Heights University</td>\n",
       "      <td>Michigan</td>\n",
       "      <td>-84.017565</td>\n",
       "      <td>41.905712</td>\n",
       "    </tr>\n",
       "    <tr>\n",
       "      <th>4</th>\n",
       "      <td>Albion</td>\n",
       "      <td>United States</td>\n",
       "      <td>Kappa Delta Sorority - The Kappa Delta Sororit...</td>\n",
       "      <td>Albion College</td>\n",
       "      <td>Michigan</td>\n",
       "      <td>-84.745177</td>\n",
       "      <td>42.244006</td>\n",
       "    </tr>\n",
       "  </tbody>\n",
       "</table>\n",
       "</div>"
      ],
      "text/plain": [
       "      city        country                                        description  \\\n",
       "0      Ada  United States  Ada witch - Sometimes you can see a misty blue...   \n",
       "1  Addison  United States  A little girl was killed suddenly while waitin...   \n",
       "2   Adrian  United States  If you take Gorman Rd. west towards Sand Creek...   \n",
       "3   Adrian  United States  In the 1970's, one room, room 211, in the old ...   \n",
       "4   Albion  United States  Kappa Delta Sorority - The Kappa Delta Sororit...   \n",
       "\n",
       "                   location     state  longitude   latitude  \n",
       "0              Ada Cemetery  Michigan -85.504893  42.962106  \n",
       "1           North Adams Rd.  Michigan -84.381843  41.971425  \n",
       "2             Ghost Trestle  Michigan -84.035656  41.904538  \n",
       "3  Siena Heights University  Michigan -84.017565  41.905712  \n",
       "4            Albion College  Michigan -84.745177  42.244006  "
      ]
     },
     "execution_count": 24,
     "metadata": {},
     "output_type": "execute_result"
    }
   ],
   "source": [
    "new_haunted_df = haunted_df[['city', 'country','description', 'location','state','longitude','latitude']].copy()\n",
    "new_haunted_df.head()"
   ]
  },
  {
   "cell_type": "code",
   "execution_count": 25,
   "metadata": {},
   "outputs": [
    {
     "data": {
      "text/html": [
       "<div>\n",
       "<style scoped>\n",
       "    .dataframe tbody tr th:only-of-type {\n",
       "        vertical-align: middle;\n",
       "    }\n",
       "\n",
       "    .dataframe tbody tr th {\n",
       "        vertical-align: top;\n",
       "    }\n",
       "\n",
       "    .dataframe thead th {\n",
       "        text-align: right;\n",
       "    }\n",
       "</style>\n",
       "<table border=\"1\" class=\"dataframe\">\n",
       "  <thead>\n",
       "    <tr style=\"text-align: right;\">\n",
       "      <th></th>\n",
       "      <th>city</th>\n",
       "      <th>country</th>\n",
       "      <th>description</th>\n",
       "      <th>location</th>\n",
       "      <th>state</th>\n",
       "      <th>longitude</th>\n",
       "      <th>latitude</th>\n",
       "    </tr>\n",
       "  </thead>\n",
       "  <tbody>\n",
       "    <tr>\n",
       "      <th>0</th>\n",
       "      <td>Ada</td>\n",
       "      <td>United States</td>\n",
       "      <td>Ada witch - Sometimes you can see a misty blue...</td>\n",
       "      <td>Ada Cemetery</td>\n",
       "      <td>Michigan</td>\n",
       "      <td>-85.504893</td>\n",
       "      <td>42.962106</td>\n",
       "    </tr>\n",
       "    <tr>\n",
       "      <th>1</th>\n",
       "      <td>Addison</td>\n",
       "      <td>United States</td>\n",
       "      <td>A little girl was killed suddenly while waitin...</td>\n",
       "      <td>North Adams Rd.</td>\n",
       "      <td>Michigan</td>\n",
       "      <td>-84.381843</td>\n",
       "      <td>41.971425</td>\n",
       "    </tr>\n",
       "    <tr>\n",
       "      <th>2</th>\n",
       "      <td>Adrian</td>\n",
       "      <td>United States</td>\n",
       "      <td>If you take Gorman Rd. west towards Sand Creek...</td>\n",
       "      <td>Ghost Trestle</td>\n",
       "      <td>Michigan</td>\n",
       "      <td>-84.035656</td>\n",
       "      <td>41.904538</td>\n",
       "    </tr>\n",
       "    <tr>\n",
       "      <th>3</th>\n",
       "      <td>Adrian</td>\n",
       "      <td>United States</td>\n",
       "      <td>In the 1970's, one room, room 211, in the old ...</td>\n",
       "      <td>Siena Heights University</td>\n",
       "      <td>Michigan</td>\n",
       "      <td>-84.017565</td>\n",
       "      <td>41.905712</td>\n",
       "    </tr>\n",
       "    <tr>\n",
       "      <th>4</th>\n",
       "      <td>Albion</td>\n",
       "      <td>United States</td>\n",
       "      <td>Kappa Delta Sorority - The Kappa Delta Sororit...</td>\n",
       "      <td>Albion College</td>\n",
       "      <td>Michigan</td>\n",
       "      <td>-84.745177</td>\n",
       "      <td>42.244006</td>\n",
       "    </tr>\n",
       "  </tbody>\n",
       "</table>\n",
       "</div>"
      ],
      "text/plain": [
       "      city        country                                        description  \\\n",
       "0      Ada  United States  Ada witch - Sometimes you can see a misty blue...   \n",
       "1  Addison  United States  A little girl was killed suddenly while waitin...   \n",
       "2   Adrian  United States  If you take Gorman Rd. west towards Sand Creek...   \n",
       "3   Adrian  United States  In the 1970's, one room, room 211, in the old ...   \n",
       "4   Albion  United States  Kappa Delta Sorority - The Kappa Delta Sororit...   \n",
       "\n",
       "                   location     state  longitude   latitude  \n",
       "0              Ada Cemetery  Michigan -85.504893  42.962106  \n",
       "1           North Adams Rd.  Michigan -84.381843  41.971425  \n",
       "2             Ghost Trestle  Michigan -84.035656  41.904538  \n",
       "3  Siena Heights University  Michigan -84.017565  41.905712  \n",
       "4            Albion College  Michigan -84.745177  42.244006  "
      ]
     },
     "execution_count": 25,
     "metadata": {},
     "output_type": "execute_result"
    }
   ],
   "source": [
    "new_haunted_df.dropna(subset=['longitude', 'latitude'])\n",
    "new_haunted_df.head()"
   ]
  },
  {
   "cell_type": "code",
   "execution_count": 26,
   "metadata": {
    "scrolled": true
   },
   "outputs": [
    {
     "data": {
      "text/html": [
       "<div>\n",
       "<style scoped>\n",
       "    .dataframe tbody tr th:only-of-type {\n",
       "        vertical-align: middle;\n",
       "    }\n",
       "\n",
       "    .dataframe tbody tr th {\n",
       "        vertical-align: top;\n",
       "    }\n",
       "\n",
       "    .dataframe thead th {\n",
       "        text-align: right;\n",
       "    }\n",
       "</style>\n",
       "<table border=\"1\" class=\"dataframe\">\n",
       "  <thead>\n",
       "    <tr style=\"text-align: right;\">\n",
       "      <th></th>\n",
       "      <th>summary</th>\n",
       "      <th>country</th>\n",
       "      <th>city</th>\n",
       "      <th>state</th>\n",
       "      <th>shape</th>\n",
       "      <th>date_time</th>\n",
       "      <th>city_latitude</th>\n",
       "      <th>city_longitude</th>\n",
       "    </tr>\n",
       "  </thead>\n",
       "  <tbody>\n",
       "    <tr>\n",
       "      <th>0</th>\n",
       "      <td>Long and narrow illuminated craft flying high ...</td>\n",
       "      <td>USA</td>\n",
       "      <td>Sisters</td>\n",
       "      <td>OR</td>\n",
       "      <td>cigar</td>\n",
       "      <td>2021-05-15T22:36:00</td>\n",
       "      <td>44.3156</td>\n",
       "      <td>-121.5175</td>\n",
       "    </tr>\n",
       "    <tr>\n",
       "      <th>1</th>\n",
       "      <td>String of lights</td>\n",
       "      <td>USA</td>\n",
       "      <td>Sarasota</td>\n",
       "      <td>FL</td>\n",
       "      <td>other</td>\n",
       "      <td>2021-05-10T22:00:00</td>\n",
       "      <td>27.354801</td>\n",
       "      <td>-82.508583</td>\n",
       "    </tr>\n",
       "    <tr>\n",
       "      <th>2</th>\n",
       "      <td>30+ lights in a line.</td>\n",
       "      <td>USA</td>\n",
       "      <td>Cleveland</td>\n",
       "      <td>TN</td>\n",
       "      <td>light</td>\n",
       "      <td>2021-05-05T22:35:00</td>\n",
       "      <td>35.146426</td>\n",
       "      <td>-84.851657</td>\n",
       "    </tr>\n",
       "    <tr>\n",
       "      <th>3</th>\n",
       "      <td>I was standing at my kitchen sink and looked u...</td>\n",
       "      <td>USA</td>\n",
       "      <td>Galway</td>\n",
       "      <td>NY</td>\n",
       "      <td>circle</td>\n",
       "      <td>2020-10-16T18:25:00</td>\n",
       "      <td>43.0225</td>\n",
       "      <td>-74.0263</td>\n",
       "    </tr>\n",
       "    <tr>\n",
       "      <th>4</th>\n",
       "      <td>Multiple slow moving craft seen all over the s...</td>\n",
       "      <td>USA</td>\n",
       "      <td>Downingtown</td>\n",
       "      <td>PA</td>\n",
       "      <td>circle</td>\n",
       "      <td>2021-06-18T01:00:00</td>\n",
       "      <td>40.0146</td>\n",
       "      <td>-75.7136</td>\n",
       "    </tr>\n",
       "  </tbody>\n",
       "</table>\n",
       "</div>"
      ],
      "text/plain": [
       "                                             summary country         city  \\\n",
       "0  Long and narrow illuminated craft flying high ...     USA      Sisters   \n",
       "1                                   String of lights     USA     Sarasota   \n",
       "2                              30+ lights in a line.     USA    Cleveland   \n",
       "3  I was standing at my kitchen sink and looked u...     USA       Galway   \n",
       "4  Multiple slow moving craft seen all over the s...     USA  Downingtown   \n",
       "\n",
       "  state   shape            date_time city_latitude city_longitude  \n",
       "0    OR   cigar  2021-05-15T22:36:00       44.3156      -121.5175  \n",
       "1    FL   other  2021-05-10T22:00:00     27.354801     -82.508583  \n",
       "2    TN   light  2021-05-05T22:35:00     35.146426     -84.851657  \n",
       "3    NY  circle  2020-10-16T18:25:00       43.0225       -74.0263  \n",
       "4    PA  circle  2021-06-18T01:00:00       40.0146       -75.7136  "
      ]
     },
     "execution_count": 26,
     "metadata": {},
     "output_type": "execute_result"
    }
   ],
   "source": [
    "new_ufo_df = ufo_df[['summary', 'country','city','state','shape','date_time','city_latitude','city_longitude']].copy()\n",
    "new_ufo_df.head()"
   ]
  },
  {
   "cell_type": "code",
   "execution_count": 27,
   "metadata": {
    "scrolled": true
   },
   "outputs": [],
   "source": [
    "new_ufo_df = new_ufo_df.rename(columns = {'city_latitude':'latitude','city_longitude':'longitude'})\n",
    "\n"
   ]
  },
  {
   "cell_type": "code",
   "execution_count": 28,
   "metadata": {},
   "outputs": [
    {
     "data": {
      "text/html": [
       "<div>\n",
       "<style scoped>\n",
       "    .dataframe tbody tr th:only-of-type {\n",
       "        vertical-align: middle;\n",
       "    }\n",
       "\n",
       "    .dataframe tbody tr th {\n",
       "        vertical-align: top;\n",
       "    }\n",
       "\n",
       "    .dataframe thead th {\n",
       "        text-align: right;\n",
       "    }\n",
       "</style>\n",
       "<table border=\"1\" class=\"dataframe\">\n",
       "  <thead>\n",
       "    <tr style=\"text-align: right;\">\n",
       "      <th></th>\n",
       "      <th>summary</th>\n",
       "      <th>country</th>\n",
       "      <th>city</th>\n",
       "      <th>state</th>\n",
       "      <th>shape</th>\n",
       "      <th>date_time</th>\n",
       "      <th>latitude</th>\n",
       "      <th>longitude</th>\n",
       "    </tr>\n",
       "  </thead>\n",
       "  <tbody>\n",
       "    <tr>\n",
       "      <th>0</th>\n",
       "      <td>Long and narrow illuminated craft flying high ...</td>\n",
       "      <td>USA</td>\n",
       "      <td>Sisters</td>\n",
       "      <td>OR</td>\n",
       "      <td>cigar</td>\n",
       "      <td>2021-05-15T22:36:00</td>\n",
       "      <td>44.3156</td>\n",
       "      <td>-121.5175</td>\n",
       "    </tr>\n",
       "    <tr>\n",
       "      <th>1</th>\n",
       "      <td>String of lights</td>\n",
       "      <td>USA</td>\n",
       "      <td>Sarasota</td>\n",
       "      <td>FL</td>\n",
       "      <td>other</td>\n",
       "      <td>2021-05-10T22:00:00</td>\n",
       "      <td>27.354801</td>\n",
       "      <td>-82.508583</td>\n",
       "    </tr>\n",
       "    <tr>\n",
       "      <th>2</th>\n",
       "      <td>30+ lights in a line.</td>\n",
       "      <td>USA</td>\n",
       "      <td>Cleveland</td>\n",
       "      <td>TN</td>\n",
       "      <td>light</td>\n",
       "      <td>2021-05-05T22:35:00</td>\n",
       "      <td>35.146426</td>\n",
       "      <td>-84.851657</td>\n",
       "    </tr>\n",
       "    <tr>\n",
       "      <th>3</th>\n",
       "      <td>I was standing at my kitchen sink and looked u...</td>\n",
       "      <td>USA</td>\n",
       "      <td>Galway</td>\n",
       "      <td>NY</td>\n",
       "      <td>circle</td>\n",
       "      <td>2020-10-16T18:25:00</td>\n",
       "      <td>43.0225</td>\n",
       "      <td>-74.0263</td>\n",
       "    </tr>\n",
       "    <tr>\n",
       "      <th>4</th>\n",
       "      <td>Multiple slow moving craft seen all over the s...</td>\n",
       "      <td>USA</td>\n",
       "      <td>Downingtown</td>\n",
       "      <td>PA</td>\n",
       "      <td>circle</td>\n",
       "      <td>2021-06-18T01:00:00</td>\n",
       "      <td>40.0146</td>\n",
       "      <td>-75.7136</td>\n",
       "    </tr>\n",
       "  </tbody>\n",
       "</table>\n",
       "</div>"
      ],
      "text/plain": [
       "                                             summary country         city  \\\n",
       "0  Long and narrow illuminated craft flying high ...     USA      Sisters   \n",
       "1                                   String of lights     USA     Sarasota   \n",
       "2                              30+ lights in a line.     USA    Cleveland   \n",
       "3  I was standing at my kitchen sink and looked u...     USA       Galway   \n",
       "4  Multiple slow moving craft seen all over the s...     USA  Downingtown   \n",
       "\n",
       "  state   shape            date_time   latitude  longitude  \n",
       "0    OR   cigar  2021-05-15T22:36:00    44.3156  -121.5175  \n",
       "1    FL   other  2021-05-10T22:00:00  27.354801 -82.508583  \n",
       "2    TN   light  2021-05-05T22:35:00  35.146426 -84.851657  \n",
       "3    NY  circle  2020-10-16T18:25:00    43.0225   -74.0263  \n",
       "4    PA  circle  2021-06-18T01:00:00    40.0146   -75.7136  "
      ]
     },
     "execution_count": 28,
     "metadata": {},
     "output_type": "execute_result"
    }
   ],
   "source": [
    "new_ufo_df.head()"
   ]
  },
  {
   "cell_type": "code",
   "execution_count": 29,
   "metadata": {
    "scrolled": true
   },
   "outputs": [],
   "source": [
    "ufo_df1 = new_ufo_df.loc[new_ufo_df['country'] == 'USA'].dropna(subset=['longitude', 'latitude'])\n"
   ]
  },
  {
   "cell_type": "code",
   "execution_count": null,
   "metadata": {},
   "outputs": [],
   "source": []
  },
  {
   "cell_type": "code",
   "execution_count": 30,
   "metadata": {},
   "outputs": [],
   "source": [
    "new_bigfoot_df = bigfoot_df[['title', 'classification','timestamp','latitude','longitude']].copy()\n",
    "new_bigfoot_df = new_bigfoot_df.dropna(subset=['longitude', 'latitude'])"
   ]
  },
  {
   "cell_type": "code",
   "execution_count": 31,
   "metadata": {},
   "outputs": [
    {
     "data": {
      "text/html": [
       "<div>\n",
       "<style scoped>\n",
       "    .dataframe tbody tr th:only-of-type {\n",
       "        vertical-align: middle;\n",
       "    }\n",
       "\n",
       "    .dataframe tbody tr th {\n",
       "        vertical-align: top;\n",
       "    }\n",
       "\n",
       "    .dataframe thead th {\n",
       "        text-align: right;\n",
       "    }\n",
       "</style>\n",
       "<table border=\"1\" class=\"dataframe\">\n",
       "  <thead>\n",
       "    <tr style=\"text-align: right;\">\n",
       "      <th></th>\n",
       "      <th>title</th>\n",
       "      <th>classification</th>\n",
       "      <th>timestamp</th>\n",
       "      <th>latitude</th>\n",
       "      <th>longitude</th>\n",
       "    </tr>\n",
       "  </thead>\n",
       "  <tbody>\n",
       "    <tr>\n",
       "      <th>0</th>\n",
       "      <td>Report 637: Campers' encounter just after dark...</td>\n",
       "      <td>Class A</td>\n",
       "      <td>2000-06-16T12:00:00Z</td>\n",
       "      <td>61.50000</td>\n",
       "      <td>-142.90000</td>\n",
       "    </tr>\n",
       "    <tr>\n",
       "      <th>1</th>\n",
       "      <td>Report 2917: Family observes large biped from car</td>\n",
       "      <td>Class A</td>\n",
       "      <td>1995-05-15T12:00:00Z</td>\n",
       "      <td>55.18720</td>\n",
       "      <td>-132.79820</td>\n",
       "    </tr>\n",
       "    <tr>\n",
       "      <th>2</th>\n",
       "      <td>Report 7963: Sasquatch walks past window of ho...</td>\n",
       "      <td>Class A</td>\n",
       "      <td>2004-02-09T12:00:00Z</td>\n",
       "      <td>55.20350</td>\n",
       "      <td>-132.82020</td>\n",
       "    </tr>\n",
       "    <tr>\n",
       "      <th>3</th>\n",
       "      <td>Report 9317: Driver on Alcan Highway has noon,...</td>\n",
       "      <td>Class A</td>\n",
       "      <td>2004-06-18T12:00:00Z</td>\n",
       "      <td>62.93750</td>\n",
       "      <td>-141.56670</td>\n",
       "    </tr>\n",
       "    <tr>\n",
       "      <th>4</th>\n",
       "      <td>Report 13038: Snowmobiler has encounter in dee...</td>\n",
       "      <td>Class A</td>\n",
       "      <td>2004-02-15T12:00:00Z</td>\n",
       "      <td>61.05950</td>\n",
       "      <td>-149.78530</td>\n",
       "    </tr>\n",
       "    <tr>\n",
       "      <th>...</th>\n",
       "      <td>...</td>\n",
       "      <td>...</td>\n",
       "      <td>...</td>\n",
       "      <td>...</td>\n",
       "      <td>...</td>\n",
       "    </tr>\n",
       "    <tr>\n",
       "      <th>4245</th>\n",
       "      <td>Report 4159: Campers hear unusual grunting sou...</td>\n",
       "      <td>Class C</td>\n",
       "      <td>1995-11-15T12:00:00Z</td>\n",
       "      <td>31.22333</td>\n",
       "      <td>-94.96611</td>\n",
       "    </tr>\n",
       "    <tr>\n",
       "      <th>4246</th>\n",
       "      <td>Report 175: Campers encounter large animal nea...</td>\n",
       "      <td>Class C</td>\n",
       "      <td>2000-07-30T12:00:00Z</td>\n",
       "      <td>47.47745</td>\n",
       "      <td>-121.04150</td>\n",
       "    </tr>\n",
       "    <tr>\n",
       "      <th>4247</th>\n",
       "      <td>Report 945: Creature with red glowing eyes seen</td>\n",
       "      <td>Class C</td>\n",
       "      <td>1999-03-19T12:00:00Z</td>\n",
       "      <td>47.57778</td>\n",
       "      <td>-124.29330</td>\n",
       "    </tr>\n",
       "    <tr>\n",
       "      <th>4248</th>\n",
       "      <td>Report 1387: Father and son hear heavy footste...</td>\n",
       "      <td>Class C</td>\n",
       "      <td>1983-08-17T12:00:00Z</td>\n",
       "      <td>47.51030</td>\n",
       "      <td>-122.04560</td>\n",
       "    </tr>\n",
       "    <tr>\n",
       "      <th>4249</th>\n",
       "      <td>Report 3044: Second-hand report of creature lo...</td>\n",
       "      <td>Class C</td>\n",
       "      <td>1975-09-10T12:00:00Z</td>\n",
       "      <td>43.98694</td>\n",
       "      <td>-91.33662</td>\n",
       "    </tr>\n",
       "  </tbody>\n",
       "</table>\n",
       "<p>4250 rows × 5 columns</p>\n",
       "</div>"
      ],
      "text/plain": [
       "                                                  title classification  \\\n",
       "0     Report 637: Campers' encounter just after dark...        Class A   \n",
       "1     Report 2917: Family observes large biped from car        Class A   \n",
       "2     Report 7963: Sasquatch walks past window of ho...        Class A   \n",
       "3     Report 9317: Driver on Alcan Highway has noon,...        Class A   \n",
       "4     Report 13038: Snowmobiler has encounter in dee...        Class A   \n",
       "...                                                 ...            ...   \n",
       "4245  Report 4159: Campers hear unusual grunting sou...        Class C   \n",
       "4246  Report 175: Campers encounter large animal nea...        Class C   \n",
       "4247    Report 945: Creature with red glowing eyes seen        Class C   \n",
       "4248  Report 1387: Father and son hear heavy footste...        Class C   \n",
       "4249  Report 3044: Second-hand report of creature lo...        Class C   \n",
       "\n",
       "                 timestamp  latitude  longitude  \n",
       "0     2000-06-16T12:00:00Z  61.50000 -142.90000  \n",
       "1     1995-05-15T12:00:00Z  55.18720 -132.79820  \n",
       "2     2004-02-09T12:00:00Z  55.20350 -132.82020  \n",
       "3     2004-06-18T12:00:00Z  62.93750 -141.56670  \n",
       "4     2004-02-15T12:00:00Z  61.05950 -149.78530  \n",
       "...                    ...       ...        ...  \n",
       "4245  1995-11-15T12:00:00Z  31.22333  -94.96611  \n",
       "4246  2000-07-30T12:00:00Z  47.47745 -121.04150  \n",
       "4247  1999-03-19T12:00:00Z  47.57778 -124.29330  \n",
       "4248  1983-08-17T12:00:00Z  47.51030 -122.04560  \n",
       "4249  1975-09-10T12:00:00Z  43.98694  -91.33662  \n",
       "\n",
       "[4250 rows x 5 columns]"
      ]
     },
     "execution_count": 31,
     "metadata": {},
     "output_type": "execute_result"
    }
   ],
   "source": [
    "new_bigfoot_df"
   ]
  },
  {
   "cell_type": "markdown",
   "metadata": {},
   "source": [
    "### Connect to local database"
   ]
  },
  {
   "cell_type": "code",
   "execution_count": 32,
   "metadata": {},
   "outputs": [],
   "source": [
    "protocol = 'postgresql'\n",
    "username = 'postgres'\n",
    "password = 'postgres'\n",
    "host = 'localhost'\n",
    "port = 5432\n",
    "database_name = 'paranormal_db'\n",
    "rds_connection_string = f'{protocol}://{username}:{password}@{host}:{port}/{database_name}'\n",
    "engine = create_engine(rds_connection_string)"
   ]
  },
  {
   "cell_type": "markdown",
   "metadata": {},
   "source": [
    "### Check for tables"
   ]
  },
  {
   "cell_type": "code",
   "execution_count": 33,
   "metadata": {
    "scrolled": true
   },
   "outputs": [
    {
     "name": "stderr",
     "output_type": "stream",
     "text": [
      "/var/folders/3k/6xzjh8pd05z3pk2qlf50c_b80000gn/T/ipykernel_10894/4162273999.py:1: SADeprecationWarning: The Engine.table_names() method is deprecated and will be removed in a future release.  Please refer to Inspector.get_table_names(). (deprecated since: 1.4)\n",
      "  engine.table_names()\n"
     ]
    },
    {
     "data": {
      "text/plain": [
       "['bigfoot', 'ufos', 'haunted']"
      ]
     },
     "execution_count": 33,
     "metadata": {},
     "output_type": "execute_result"
    }
   ],
   "source": [
    "engine.table_names()"
   ]
  },
  {
   "cell_type": "markdown",
   "metadata": {},
   "source": [
    "### Use pandas to load csv converted DataFrame into database"
   ]
  },
  {
   "cell_type": "code",
   "execution_count": 34,
   "metadata": {},
   "outputs": [
    {
     "data": {
      "text/plain": [
       "250"
      ]
     },
     "execution_count": 34,
     "metadata": {},
     "output_type": "execute_result"
    }
   ],
   "source": [
    "new_bigfoot_df.to_sql(name='bigfoot', con=engine, if_exists='append', index=False)"
   ]
  },
  {
   "cell_type": "code",
   "execution_count": 36,
   "metadata": {},
   "outputs": [
    {
     "data": {
      "text/plain": [
       "448"
      ]
     },
     "execution_count": 36,
     "metadata": {},
     "output_type": "execute_result"
    }
   ],
   "source": [
    "ufo_df1.to_sql(name='ufos', con=engine, if_exists='append', index=False)"
   ]
  },
  {
   "cell_type": "code",
   "execution_count": 37,
   "metadata": {},
   "outputs": [
    {
     "data": {
      "text/plain": [
       "992"
      ]
     },
     "execution_count": 37,
     "metadata": {},
     "output_type": "execute_result"
    }
   ],
   "source": [
    "new_haunted_df.to_sql(name='haunted', con=engine, if_exists='append', index=False)"
   ]
  },
  {
   "cell_type": "code",
   "execution_count": 43,
   "metadata": {},
   "outputs": [],
   "source": [
    "haunted_json = new_haunted_df.to_json('haunted_json.json')\n",
    "\n",
    "haunted_json"
   ]
  },
  {
   "cell_type": "markdown",
   "metadata": {},
   "source": [
    "### Confirm data has been added by querying the customer_name table\n",
    "* NOTE: can also check using pgAdmin"
   ]
  },
  {
   "cell_type": "code",
   "execution_count": null,
   "metadata": {},
   "outputs": [],
   "source": [
    "pd.read_sql_query('select * from haunted', con=engine).head()"
   ]
  },
  {
   "cell_type": "code",
   "execution_count": null,
   "metadata": {},
   "outputs": [],
   "source": [
    "pd.read_sql_query('select * from ufos', con=engine).head()"
   ]
  },
  {
   "cell_type": "code",
   "execution_count": null,
   "metadata": {},
   "outputs": [],
   "source": [
    "pd.read_sql_query('select * from bigfoot', con=engine).head()"
   ]
  },
  {
   "cell_type": "code",
   "execution_count": null,
   "metadata": {},
   "outputs": [],
   "source": []
  }
 ],
 "metadata": {
  "kernelspec": {
   "display_name": "Python 3 (ipykernel)",
   "language": "python",
   "name": "python3"
  },
  "language_info": {
   "codemirror_mode": {
    "name": "ipython",
    "version": 3
   },
   "file_extension": ".py",
   "mimetype": "text/x-python",
   "name": "python",
   "nbconvert_exporter": "python",
   "pygments_lexer": "ipython3",
   "version": "3.9.12"
  },
  "nteract": {
   "version": "0.12.3"
  }
 },
 "nbformat": 4,
 "nbformat_minor": 2
}
